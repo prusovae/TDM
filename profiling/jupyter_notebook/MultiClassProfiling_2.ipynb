{
 "cells": [
  {
   "cell_type": "code",
   "execution_count": 1,
   "metadata": {},
   "outputs": [],
   "source": [
    "# импорт библиотек\n",
    "# from sklearn import svm\n",
    "# from sklearn import datasets, linear_model, metrics\n",
    "# from sklearn import preprocessing\n",
    "# from sklearn.model_selection import cross_validate\n",
    "# from sklearn.preprocessing import MinMaxScaler, LabelEncoder\n",
    "# from sklearn.model_selection import train_test_split, GridSearchCV\n",
    "# from sklearn.metrics import classification_report, confusion_matrix, roc_curve, auc, roc_auc_score\n",
    "# from sklearn.ensemble import GradientBoostingClassifier, RandomForestClassifier\n",
    "# from sklearn.linear_model import LogisticRegression\n",
    "# from sklearn.feature_selection import SelectKBest, chi2, f_classif\n",
    "# from sklearn.neighbors import KNeighborsClassifier\n",
    "# import pylab as pl\n",
    "# import numpy as np\n",
    "# from xgboost import XGBClassifier\n",
    "# from xgboost import plot_importance\n",
    "# import pandas as pd\n",
    "# from pandas import read_csv, DataFrame, Series\n",
    "# \n",
    "\n",
    "import pandas as pd\n",
    "from sklearn.model_selection import train_test_split#, GridSearchCV\n",
    "from xgboost import XGBClassifier, plot_importance\n",
    "import matplotlib.pyplot as plt\n",
    "#import pickle\n",
    "\n",
    "from joblib import dump, load\n",
    " "
   ]
  },
  {
   "cell_type": "code",
   "execution_count": 2,
   "metadata": {},
   "outputs": [],
   "source": [
    "path = 'C:\\\\Users\\\\Xiaomi\\\\PycharmProjects\\\\TDM\\\\data\\\\dict\\\\'"
   ]
  },
  {
   "cell_type": "code",
   "execution_count": 3,
   "metadata": {},
   "outputs": [],
   "source": [
    "colnames=['txt']\n",
    "# Загрузка справочника телефонов\n",
    "df = pd.read_csv(path+'phone_numbers.csv', encoding='utf-8', names=colnames, nrows=30000, skiprows=1)\n",
    "df['target']='phone'\n",
    "df.to_csv(path+'fsht.csv', index=False)"
   ]
  },
  {
   "cell_type": "code",
   "execution_count": 4,
   "metadata": {},
   "outputs": [],
   "source": [
    "# Загрузка справочника имен\n",
    "df_temp = pd.read_csv(path+'men_names.csv', encoding='utf-8', nrows=30000, usecols = ['name'])\n",
    "df_temp['target']='name'\n",
    "df_temp.to_csv(path+'fsht.csv', index=False, mode='a', header=False)\n",
    "\n",
    "df_temp = pd.read_csv(path+'women_names.csv', encoding='utf-8', nrows=30000, usecols = ['name'])\n",
    "df_temp['target']='name'\n",
    "df_temp.to_csv(path+'fsht.csv', index=False, mode='a', header=False)"
   ]
  },
  {
   "cell_type": "code",
   "execution_count": 5,
   "metadata": {},
   "outputs": [],
   "source": [
    "# Загрузка ФИО\n",
    "df_temp = pd.read_csv('z:\\\\fio.csv', encoding='utf-8', nrows=30000, usecols = ['fio'])\n",
    "df_temp['target']='fio'\n",
    "df_temp.to_csv(path+'fsht.csv', index=False, mode='a', header=False)"
   ]
  },
  {
   "cell_type": "code",
   "execution_count": 6,
   "metadata": {},
   "outputs": [],
   "source": [
    "# Загрузка ИНН\n",
    "df_temp = pd.read_csv('z:\\\\inn.csv', encoding='utf-8', nrows=30000, usecols = ['inn'])\n",
    "df_temp['target']='inn'\n",
    "df_temp.to_csv(path+'fsht.csv', index=False, mode='a', header=False)"
   ]
  },
  {
   "cell_type": "code",
   "execution_count": 7,
   "metadata": {},
   "outputs": [],
   "source": [
    "# Загрузка левых данных\n",
    "df_temp = pd.read_csv('z:\\\\others.csv', encoding='utf-8', nrows=5000, sep=';')\n",
    "df_temp['target']='other'\n",
    "\n",
    "for column in df_temp.columns:\n",
    "    df_temp.loc[df_temp[column] != 0.0].to_csv(path + 'fsht.csv', index=False, mode='a', header=False, columns=[column, 'target'])"
   ]
  },
  {
   "cell_type": "code",
   "execution_count": 8,
   "metadata": {},
   "outputs": [],
   "source": [
    "# Загрузка адресов\n",
    "df_temp = pd.read_csv('z:\\\\address.csv', encoding='utf-8', nrows=30000, usecols = ['address'], sep=';')\n",
    "df_temp['target']='address'\n",
    "df_temp.to_csv(path+'fsht.csv', index=False, mode='a', header=False)"
   ]
  },
  {
   "cell_type": "code",
   "execution_count": 9,
   "metadata": {},
   "outputs": [],
   "source": [
    "def prepare_data(df):\n",
    "    #переводим текст в lower формат, удаляем пробелы слева, справа и удаляем все множественные пробелы\n",
    "    df['txt']=df['txt'].str.lower().str.strip().str.replace(' +', ' ')\n",
    "    #df['txt']=df['txt'].str.lower()\n",
    "    df['len']=df.txt.str.len()\n",
    "    #df['digits_len'] = df.txt.map(lambda x: len([k for k in x if k.isdigit()]))\n",
    "    df['digits_len'] = df.txt.str.count('[0-9]')\n",
    "    #df['alpha_len'] = df.txt.map(lambda x: len([k for k in x if k.isalpha()]))\n",
    "    df['alpha_len'] = df.txt.str.count('[A-Za-zА-Яа-яЁё]')\n",
    "    df['dot_len']=df.txt.str.count('\\.')\n",
    "    df['space_len']=df.txt.str.count(' ')\n",
    "    df['dash_len']=df.txt.str.count('\\-')\n",
    "    df['plus_len']=df.txt.str.count('\\+')\n",
    "    df['comma_len']=df.txt.str.count(',')    \n",
    "    df['bracket']=df.txt.str.count('[()]')\n",
    "    df = df.drop(['txt'], axis=1)\n",
    "    return df"
   ]
  },
  {
   "cell_type": "code",
   "execution_count": 10,
   "metadata": {},
   "outputs": [],
   "source": [
    "# Считываем данные\n",
    "train_data = pd.read_csv(path+'fsht.csv', encoding='utf-8')\n",
    "train_data = train_data.drop_duplicates(subset=['txt', 'target'], keep=False) \n",
    "test_data = pd.read_csv(\"z:\\\\test.csv\", encoding='utf8', sep=',')"
   ]
  },
  {
   "cell_type": "code",
   "execution_count": 11,
   "metadata": {},
   "outputs": [],
   "source": [
    "X_train = train_data.copy()\n",
    "X_test = test_data.copy()\n",
    "X_train = prepare_data(X_train)\n",
    "X_test = prepare_data(X_test)"
   ]
  },
  {
   "cell_type": "code",
   "execution_count": 12,
   "metadata": {},
   "outputs": [],
   "source": [
    "#y_train = X_train['target']\n",
    "y_train = pd.get_dummies(train_data, columns=['target'])\n",
    "X_train = X_train.drop(['target'], axis=1)"
   ]
  },
  {
   "cell_type": "code",
   "execution_count": 13,
   "metadata": {},
   "outputs": [],
   "source": [
    "state = 12  \n",
    "test_size = 0.4 \n",
    "\n",
    "ROCtrainTRN, ROCvalTRN, ROCtrainTRG, ROCvalTRG = train_test_split(X_train, y_train,  \n",
    "    test_size=test_size, random_state=state)"
   ]
  },
  {
   "cell_type": "code",
   "execution_count": 14,
   "metadata": {},
   "outputs": [],
   "source": [
    "y_train = y_train.drop(['txt'], axis=1)\n",
    "result=pd.DataFrame()\n",
    "result['txt']=test_data['txt']"
   ]
  },
  {
   "cell_type": "code",
   "execution_count": 15,
   "metadata": {},
   "outputs": [],
   "source": [
    "result_dict = dict()"
   ]
  },
  {
   "cell_type": "code",
   "execution_count": 16,
   "metadata": {},
   "outputs": [
    {
     "name": "stdout",
     "output_type": "stream",
     "text": [
      "Learning :  target_address\n",
      "Accuracy score (validation): 1.000\n"
     ]
    },
    {
     "data": {
      "image/png": "[encoded data removed]",
      "text/plain": [
       "<Figure size 432x288 with 1 Axes>"
      ]
     },
     "metadata": {
      "needs_background": "light"
     },
     "output_type": "display_data"
    },
    {
     "name": "stdout",
     "output_type": "stream",
     "text": [
      "Learning :  target_fio\n",
      "Accuracy score (validation): 1.000\n"
     ]
    },
    {
     "data": {
      "image/png": "[encoded data removed]",
      "text/plain": [
       "<Figure size 432x288 with 1 Axes>"
      ]
     },
     "metadata": {
      "needs_background": "light"
     },
     "output_type": "display_data"
    },
    {
     "name": "stdout",
     "output_type": "stream",
     "text": [
      "Learning :  target_inn\n",
      "Accuracy score (validation): 0.990\n"
     ]
    },
    {
     "data": {
      "image/png": "[encoded data removed]",
      "text/plain": [
       "<Figure size 432x288 with 1 Axes>"
      ]
     },
     "metadata": {
      "needs_background": "light"
     },
     "output_type": "display_data"
    },
    {
     "name": "stdout",
     "output_type": "stream",
     "text": [
      "Learning :  target_name\n",
      "Accuracy score (validation): 1.000\n"
     ]
    },
    {
     "data": {
      "image/png": "[encoded data removed]",
      "text/plain": [
       "<Figure size 432x288 with 1 Axes>"
      ]
     },
     "metadata": {
      "needs_background": "light"
     },
     "output_type": "display_data"
    },
    {
     "name": "stdout",
     "output_type": "stream",
     "text": [
      "Learning :  target_phone\n",
      "Accuracy score (validation): 0.990\n"
     ]
    },
    {
     "data": {
      "image/png": "[encoded data removed]",
      "text/plain": [
       "<Figure size 432x288 with 1 Axes>"
      ]
     },
     "metadata": {
      "needs_background": "light"
     },
     "output_type": "display_data"
    },
    {
     "name": "stdout",
     "output_type": "stream",
     "text": [
      "target_address\n",
      "0.96\n"
     ]
    }
   ],
   "source": [
    "best_params = {'learning_rate': 0.5, 'max_depth': 10, 'min_child_weight': 6, 'n_estimators': 200}\n",
    "\n",
    "xgb_clf = XGBClassifier(learning_rate=best_params['learning_rate'],\n",
    "                        max_depth=best_params['max_depth'],\n",
    "                        min_child_weight=best_params['min_child_weight'],\n",
    "                        n_estimators = best_params['n_estimators'])\n",
    "\n",
    "for column in y_train.columns:\n",
    "    if (column !='target_other'):\n",
    "        xgb_clf.fit(ROCtrainTRN, ROCtrainTRG[column])\n",
    "        print(\"Learning : \", column)\n",
    "        print(\"Accuracy score (validation): {0:.3f}\".format(xgb_clf.score(ROCvalTRN, ROCvalTRG[column])))\n",
    "        xgb_clf.fit(X_train, y_train[column])\n",
    "        \n",
    "        #s = pickle.dumps(xgb_clf)\n",
    "        dump(xgb_clf, 'z:\\\\'+column+'.joblib')\n",
    "        \n",
    "        result[column]=predictions=(xgb_clf.predict_proba(X_test)[:,1])\n",
    "        result[column]=(round(result[column],2))\n",
    "        result_dict[result[column].mean()] = column\n",
    "        plot_importance(xgb_clf)\n",
    "        plt.show()\n",
    "\n",
    "max_score = max(list(result_dict.keys()))\n",
    "print(result_dict[max_score]) \n",
    "print(max_score)    "
   ]
  },
  {
   "cell_type": "code",
   "execution_count": 17,
   "metadata": {},
   "outputs": [],
   "source": [
    "result.to_csv('z:\\\\result.csv',index=False, sep=';', encoding='utf-8')\n"
   ]
  },
  {
   "cell_type": "code",
   "execution_count": null,
   "metadata": {},
   "outputs": [],
   "source": []
  }
 ],
 "metadata": {
  "kernelspec": {
   "display_name": "Python 3",
   "language": "python",
   "name": "python3"
  },
  "language_info": {
   "codemirror_mode": {
    "name": "ipython",
    "version": 3
   },
   "file_extension": ".py",
   "mimetype": "text/x-python",
   "name": "python",
   "nbconvert_exporter": "python",
   "pygments_lexer": "ipython3",
   "version": "3.7.4"
  }
 },
 "nbformat": 4,
 "nbformat_minor": 2
}
