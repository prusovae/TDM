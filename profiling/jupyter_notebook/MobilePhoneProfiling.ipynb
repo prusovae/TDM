{
 "cells": [
  {
   "cell_type": "code",
   "execution_count": 4,
   "metadata": {},
   "outputs": [],
   "source": [
    "# импорт библиотек\n",
    "from sklearn import svm\n",
    "from sklearn import datasets, linear_model, metrics\n",
    "from sklearn import preprocessing\n",
    "from sklearn.model_selection import cross_validate\n",
    "from sklearn.preprocessing import MinMaxScaler, LabelEncoder\n",
    "from sklearn.model_selection import train_test_split, GridSearchCV\n",
    "from sklearn.metrics import classification_report, confusion_matrix, roc_curve, auc, roc_auc_score\n",
    "from sklearn.ensemble import GradientBoostingClassifier, RandomForestClassifier\n",
    "from sklearn.linear_model import LogisticRegression\n",
    "from sklearn.feature_selection import SelectKBest, chi2, f_classif\n",
    "from sklearn.neighbors import KNeighborsClassifier\n",
    "import pylab as pl\n",
    "import numpy as np\n",
    "from xgboost import XGBClassifier\n",
    "from xgboost import plot_importance\n",
    "import pandas as pd\n",
    "from pandas import read_csv, DataFrame, Series\n",
    "import matplotlib.pyplot as plt"
   ]
  },
  {
   "cell_type": "code",
   "execution_count": 14,
   "metadata": {},
   "outputs": [],
   "source": [
    "path = 'data\\\\domains\\\\'"
   ]
  },
  {
   "cell_type": "code",
   "execution_count": 63,
   "metadata": {},
   "outputs": [],
   "source": [
    "colnames=['txt']\n",
    "# Загрузка справочника телефонов\n",
    "df = pd.read_csv(path+'phone_numbers.csv', encoding='utf-8', names=colnames, nrows=3000, skiprows=1)\n",
    "df['target']='phone'\n",
    "df.to_csv(path+'fsht.csv', index=False)\n",
    "# Загрузка справочника имен\n",
    "df_temp = pd.read_csv(path+'names.csv', encoding='utf-8', nrows=3000, usecols = ['name'])\n",
    "df_temp['target']='name'\n",
    "df_temp.to_csv(path+'fsht.csv', index=False, mode='a', header=False)\n",
    "# Загрузка справочника фамилий\n",
    "df_temp = pd.read_csv(path+'surnames.csv', encoding='utf-8', nrows=3000, usecols = ['surname'])\n",
    "df_temp['target']='surname'\n",
    "df_temp.to_csv(path+'fsht.csv', index=False, mode='a', header=False)\n",
    "#\n",
    "df_temp = pd.read_csv(path+'others_table_2.csv', encoding='utf-8', nrows=500, sep=';')\n",
    "df_temp['target']='other'\n",
    "\n",
    "for column in df_temp.columns:\n",
    "    df_temp.loc[df_temp[column] != 0.0].to_csv(path + 'fsht.csv', index=False, mode='a', header=False, columns=[column, 'target'])"
   ]
  },
  {
   "cell_type": "code",
   "execution_count": 44,
   "metadata": {},
   "outputs": [],
   "source": []
  },
  {
   "cell_type": "code",
   "execution_count": 41,
   "metadata": {},
   "outputs": [],
   "source": []
  },
  {
   "cell_type": "code",
   "execution_count": 53,
   "metadata": {},
   "outputs": [],
   "source": [
    "def prepare_data(df):\n",
    "    df['len']=df.txt.str.len()\n",
    "    #df['digits_len'] = df.txt.map(lambda x: len([k for k in x if k.isdigit()]))\n",
    "    df['digits_len'] = df.txt.str.count('[0-9]')\n",
    "    #df['alpha_len'] = df.txt.map(lambda x: len([k for k in x if k.isalpha()]))\n",
    "    df['alpha_len'] = df.txt.str.count('[A-Za-zА-Яа-яЁё]')\n",
    "    df['dot_len']=df.txt.str.count('\\.')\n",
    "    df['space_len']=df.txt.str.count(' ')\n",
    "    df['dash_len']=df.txt.str.count('\\-')\n",
    "    df['plus_len']=df.txt.str.count('\\+')\n",
    "    df['bracket']=df.txt.str.count('[()]')\n",
    "    df = df.drop(['txt'], axis=1)\n",
    "    return df"
   ]
  },
  {
   "cell_type": "code",
   "execution_count": 64,
   "metadata": {},
   "outputs": [],
   "source": [
    "# Считываем данные\n",
    "train_data = pd.read_csv(path+'fsht.csv', encoding='utf-8')\n",
    "train_data = train_data.drop_duplicates(subset=['txt', 'target'], keep=False) \n",
    "test_data = pd.read_csv(\"data\\\\test.csv\", encoding='utf8', sep=',')"
   ]
  },
  {
   "cell_type": "code",
   "execution_count": 75,
   "metadata": {},
   "outputs": [
    {
     "data": {
      "text/plain": [
       "other      4204\n",
       "surname    3000\n",
       "name       3000\n",
       "phone      2713\n",
       "Name: target, dtype: int64"
      ]
     },
     "execution_count": 75,
     "metadata": {},
     "output_type": "execute_result"
    }
   ],
   "source": [
    "train_data['target'].value_counts()"
   ]
  },
  {
   "cell_type": "code",
   "execution_count": 55,
   "metadata": {},
   "outputs": [],
   "source": [
    "X_train = train_data.copy()\n",
    "X_test = test_data.copy()\n",
    "X_train = prepare_data(X_train)\n",
    "X_test = prepare_data(X_test)\n",
    "\n",
    "y_train = X_train['target']\n",
    "X_train = X_train.drop(['target'], axis=1)"
   ]
  },
  {
   "cell_type": "code",
   "execution_count": 76,
   "metadata": {},
   "outputs": [],
   "source": [
    "#X_train"
   ]
  },
  {
   "cell_type": "code",
   "execution_count": 6,
   "metadata": {},
   "outputs": [],
   "source": [
    "state = 12  \n",
    "test_size = 0.4 \n",
    "\n",
    "ROCtrainTRN, ROCvalTRN, ROCtrainTRG, ROCvalTRG = train_test_split(X_train, y_train,  \n",
    "    test_size=test_size, random_state=state)"
   ]
  },
  {
   "cell_type": "code",
   "execution_count": 7,
   "metadata": {},
   "outputs": [],
   "source": [
    "# # Подберем лучшие параметры для данной модели на тренировочной выборке\n",
    "# xgb_clf = XGBClassifier()\n",
    "# param_dist = {\"max_depth\": [10, 30, 50],\n",
    "#               \"min_child_weight\": [1,3,6],\n",
    "#               \"n_estimators\": [200],\n",
    "#               \"learning_rate\": [0.05, 0.075, 0.1, 0.25, 0.5, 0.75, 1] }\n",
    "# grid_search = GridSearchCV(xgb_clf, param_grid=param_dist, cv=3, verbose=10, n_jobs=-1)\n",
    "# grid_search.fit(ROCtrainTRN, ROCtrainTRG)\n",
    "# print(grid_search.best_params_)\n",
    "# print(grid_search.best_score_)"
   ]
  },
  {
   "cell_type": "code",
   "execution_count": 8,
   "metadata": {},
   "outputs": [
    {
     "name": "stdout",
     "output_type": "stream",
     "text": [
      "Learning rate:  0.5\n",
      "Accuracy score (training): 0.999\n",
      "Roc Auc score (training): 0.999\n",
      "Accuracy score (validation): 0.999\n",
      "Roc Auc score (validation): 0.999\n"
     ]
    }
   ],
   "source": [
    "#best_params = grid_search.best_params_\n",
    "best_params = {'learning_rate': 0.5, 'max_depth': 10, 'min_child_weight': 6, 'n_estimators': 200}\n",
    "\n",
    "xgb_clf = XGBClassifier(learning_rate=best_params['learning_rate'],\n",
    "                        max_depth=best_params['max_depth'],\n",
    "                        min_child_weight=best_params['min_child_weight'],\n",
    "                        n_estimators = best_params['n_estimators'])\n",
    "\n",
    "xgb_clf.fit(ROCtrainTRN, ROCtrainTRG)\n",
    "\n",
    "print(\"Learning rate: \", best_params['learning_rate'])\n",
    "print(\"Accuracy score (training): {0:.3f}\".format(xgb_clf.score(ROCtrainTRN, ROCtrainTRG)))\n",
    "print(\"Roc Auc score (training): {0:.3f}\".format(roc_auc_score(ROCtrainTRG, xgb_clf.predict(ROCtrainTRN))))\n",
    "print(\"Accuracy score (validation): {0:.3f}\".format(xgb_clf.score(ROCvalTRN, ROCvalTRG)))\n",
    "print(\"Roc Auc score (validation): {0:.3f}\".format(roc_auc_score(ROCvalTRG, xgb_clf.predict(ROCvalTRN))))\n",
    "\n",
    "#roc_auc_score(Y_test, clf.predict(xtest))\n",
    "#print (xgb_clf.predict(ROCtrainTRN))\n",
    "#y_probs = xgb_clf.predict_proba(ROCtrainTRN)[:,1]\n",
    "#print (y_probs)\n",
    "#pd.Series(xgb_clf.predict_proba(ROCvalTRN)[:,1]>0.38).astype(int).value_counts(normalize=True)"
   ]
  },
  {
   "cell_type": "code",
   "execution_count": 9,
   "metadata": {},
   "outputs": [
    {
     "name": "stdout",
     "output_type": "stream",
     "text": [
      "0    0.572725\n",
      "1    0.427275\n",
      "Name: target, dtype: float64\n",
      "0    0.569788\n",
      "1    0.430212\n",
      "dtype: float64\n",
      "0    0.571134\n",
      "1    0.428866\n",
      "Name: target, dtype: float64\n",
      "0    0.571134\n",
      "1    0.428866\n",
      "dtype: float64\n"
     ]
    }
   ],
   "source": [
    "print(ROCvalTRG.value_counts(normalize=True))\n",
    "print(pd.Series(xgb_clf.predict_proba(ROCtrainTRN)[:,1]>0.42).astype(int).value_counts(normalize=True))\n",
    "print(y_train.value_counts(normalize=True))\n",
    "print(pd.Series(xgb_clf.predict_proba(X_train)[:,1]>0.42).astype(int).value_counts(normalize=True))"
   ]
  },
  {
   "cell_type": "code",
   "execution_count": 10,
   "metadata": {},
   "outputs": [
    {
     "data": {
      "text/plain": [
       "XGBClassifier(base_score=0.5, booster='gbtree', colsample_bylevel=1,\n",
       "              colsample_bynode=1, colsample_bytree=1, gamma=0,\n",
       "              learning_rate=0.5, max_delta_step=0, max_depth=10,\n",
       "              min_child_weight=6, missing=None, n_estimators=200, n_jobs=1,\n",
       "              nthread=None, objective='binary:logistic', random_state=0,\n",
       "              reg_alpha=0, reg_lambda=1, scale_pos_weight=1, seed=None,\n",
       "              silent=None, subsample=1, verbosity=1)"
      ]
     },
     "execution_count": 10,
     "metadata": {},
     "output_type": "execute_result"
    }
   ],
   "source": [
    "# Обучение модели на всем объеме\n",
    "xgb_clf.fit(X_train, y_train)"
   ]
  },
  {
   "cell_type": "code",
   "execution_count": 11,
   "metadata": {},
   "outputs": [
    {
     "data": {
      "text/html": [
       "<div>\n",
       "<style scoped>\n",
       "    .dataframe tbody tr th:only-of-type {\n",
       "        vertical-align: middle;\n",
       "    }\n",
       "\n",
       "    .dataframe tbody tr th {\n",
       "        vertical-align: top;\n",
       "    }\n",
       "\n",
       "    .dataframe thead th {\n",
       "        text-align: right;\n",
       "    }\n",
       "</style>\n",
       "<table border=\"1\" class=\"dataframe\">\n",
       "  <thead>\n",
       "    <tr style=\"text-align: right;\">\n",
       "      <th></th>\n",
       "      <th>len</th>\n",
       "      <th>digits_len</th>\n",
       "      <th>alpha_len</th>\n",
       "      <th>dot_len</th>\n",
       "      <th>space_len</th>\n",
       "      <th>dash_len</th>\n",
       "      <th>plus_len</th>\n",
       "      <th>bracket</th>\n",
       "    </tr>\n",
       "  </thead>\n",
       "  <tbody>\n",
       "    <tr>\n",
       "      <td>0</td>\n",
       "      <td>12</td>\n",
       "      <td>11</td>\n",
       "      <td>0</td>\n",
       "      <td>0</td>\n",
       "      <td>0</td>\n",
       "      <td>0</td>\n",
       "      <td>1</td>\n",
       "      <td>0</td>\n",
       "    </tr>\n",
       "    <tr>\n",
       "      <td>1</td>\n",
       "      <td>15</td>\n",
       "      <td>11</td>\n",
       "      <td>0</td>\n",
       "      <td>0</td>\n",
       "      <td>4</td>\n",
       "      <td>0</td>\n",
       "      <td>0</td>\n",
       "      <td>0</td>\n",
       "    </tr>\n",
       "    <tr>\n",
       "      <td>2</td>\n",
       "      <td>3</td>\n",
       "      <td>0</td>\n",
       "      <td>3</td>\n",
       "      <td>0</td>\n",
       "      <td>0</td>\n",
       "      <td>0</td>\n",
       "      <td>0</td>\n",
       "      <td>0</td>\n",
       "    </tr>\n",
       "    <tr>\n",
       "      <td>3</td>\n",
       "      <td>18</td>\n",
       "      <td>0</td>\n",
       "      <td>16</td>\n",
       "      <td>2</td>\n",
       "      <td>0</td>\n",
       "      <td>0</td>\n",
       "      <td>0</td>\n",
       "      <td>0</td>\n",
       "    </tr>\n",
       "    <tr>\n",
       "      <td>4</td>\n",
       "      <td>18</td>\n",
       "      <td>17</td>\n",
       "      <td>0</td>\n",
       "      <td>1</td>\n",
       "      <td>0</td>\n",
       "      <td>0</td>\n",
       "      <td>0</td>\n",
       "      <td>0</td>\n",
       "    </tr>\n",
       "    <tr>\n",
       "      <td>5</td>\n",
       "      <td>8</td>\n",
       "      <td>0</td>\n",
       "      <td>8</td>\n",
       "      <td>0</td>\n",
       "      <td>0</td>\n",
       "      <td>0</td>\n",
       "      <td>0</td>\n",
       "      <td>0</td>\n",
       "    </tr>\n",
       "  </tbody>\n",
       "</table>\n",
       "</div>"
      ],
      "text/plain": [
       "   len  digits_len  alpha_len  dot_len  space_len  dash_len  plus_len  bracket\n",
       "0   12          11          0        0          0         0         1        0\n",
       "1   15          11          0        0          4         0         0        0\n",
       "2    3           0          3        0          0         0         0        0\n",
       "3   18           0         16        2          0         0         0        0\n",
       "4   18          17          0        1          0         0         0        0\n",
       "5    8           0          8        0          0         0         0        0"
      ]
     },
     "execution_count": 11,
     "metadata": {},
     "output_type": "execute_result"
    }
   ],
   "source": [
    "X_test"
   ]
  },
  {
   "cell_type": "code",
   "execution_count": 12,
   "metadata": {},
   "outputs": [
    {
     "name": "stdout",
     "output_type": "stream",
     "text": [
      "1    0.5\n",
      "0    0.5\n",
      "dtype: float64\n",
      "1    0.5\n",
      "0    0.5\n",
      "dtype: float64\n"
     ]
    }
   ],
   "source": [
    "inputValues = test_data['txt']\n",
    "\n",
    "# 2 варианта публикации ответов\n",
    "# 1 - Модель сама решает где 0 а где 1 \n",
    "predictions=xgb_clf.predict(X_test)\n",
    "print(pd.Series(predictions).value_counts(normalize=True))\n",
    "# 2 - Мы решаем за модель с ипользованием переменной (рейт первого класса) \n",
    "#predictions=(xgb_clf.predict_proba(X_test)[:,1]>0.42).astype(int)\n",
    "\n",
    "print(pd.Series(predictions).value_counts(normalize=True))\n",
    "pd.DataFrame({\"input_values\": inputValues, \"is_mobile_number\": predictions}).to_csv('D:\\\\AI\\\\Profiling\\\\result.csv',index=False)\n"
   ]
  },
  {
   "cell_type": "code",
   "execution_count": 13,
   "metadata": {},
   "outputs": [
    {
     "data": {
      "image/png": "[encoded data removed]",
      "text/plain": [
       "<Figure size 432x288 with 1 Axes>"
      ]
     },
     "metadata": {
      "needs_background": "light"
     },
     "output_type": "display_data"
    }
   ],
   "source": [
    "#print(xgb_clf.feature_importances_)\n",
    "#plt.bar(range(len(xgb_clf.feature_importances_)), xgb_clf.feature_importances_)\n",
    "#plt.show()\n",
    "\n",
    "#X_train\n",
    "plot_importance(xgb_clf)\n",
    "plt.show()\n"
   ]
  }
 ],
 "metadata": {
  "kernelspec": {
   "display_name": "Python 3",
   "language": "python",
   "name": "python3"
  },
  "language_info": {
   "codemirror_mode": {
    "name": "ipython",
    "version": 3
   },
   "file_extension": ".py",
   "mimetype": "text/x-python",
   "name": "python",
   "nbconvert_exporter": "python",
   "pygments_lexer": "ipython3",
   "version": "3.7.4"
  }
 },
 "nbformat": 4,
 "nbformat_minor": 2
}
